{
  "cells": [
    {
      "cell_type": "markdown",
      "metadata": {
        "id": "view-in-github",
        "colab_type": "text"
      },
      "source": [
        "<a href=\"https://colab.research.google.com/github/vinay-7808/Assignment/blob/main/project.ipynb\" target=\"_parent\"><img src=\"https://colab.research.google.com/assets/colab-badge.svg\" alt=\"Open In Colab\"/></a>"
      ]
    },
    {
      "cell_type": "code",
      "execution_count": null,
      "id": "dfc8fc94",
      "metadata": {
        "id": "dfc8fc94"
      },
      "outputs": [],
      "source": [
        "## Importing necessary library\n",
        "import pandas as pd\n",
        "import numpy as np\n",
        "from sklearn.model_selection import train_test_split"
      ]
    },
    {
      "cell_type": "markdown",
      "id": "e0b8fa85",
      "metadata": {
        "id": "e0b8fa85"
      },
      "source": [
        "# 1. Data Preprocessing"
      ]
    },
    {
      "cell_type": "markdown",
      "id": "5eeebc6f",
      "metadata": {
        "id": "5eeebc6f"
      },
      "source": [
        "### Loading and Performing Initial Data Exploration"
      ]
    },
    {
      "cell_type": "code",
      "execution_count": null,
      "id": "3dd93c5a",
      "metadata": {
        "id": "3dd93c5a",
        "colab": {
          "base_uri": "https://localhost:8080/"
        },
        "outputId": "8e9fe46b-52f3-400c-a77b-5b41bc03ff15"
      },
      "outputs": [
        {
          "output_type": "stream",
          "name": "stdout",
          "text": [
            "Drive already mounted at /content/drive; to attempt to forcibly remount, call drive.mount(\"/content/drive\", force_remount=True).\n",
            "   CustomerID        Name  Age  Gender     Location  \\\n",
            "0           1  Customer_1   63    Male  Los Angeles   \n",
            "1           2  Customer_2   62  Female     New York   \n",
            "2           3  Customer_3   24  Female  Los Angeles   \n",
            "3           4  Customer_4   36  Female        Miami   \n",
            "4           5  Customer_5   46  Female        Miami   \n",
            "\n",
            "   Subscription_Length_Months  Monthly_Bill  Total_Usage_GB  Churn  \n",
            "0                          17         73.36             236      0  \n",
            "1                           1         48.76             172      0  \n",
            "2                           5         85.47             460      0  \n",
            "3                           3         97.94             297      1  \n",
            "4                          19         58.14             266      0  \n",
            "          CustomerID            Age  Subscription_Length_Months  \\\n",
            "count  100000.000000  100000.000000               100000.000000   \n",
            "mean    50000.500000      44.027020                   12.490100   \n",
            "std     28867.657797      15.280283                    6.926461   \n",
            "min         1.000000      18.000000                    1.000000   \n",
            "25%     25000.750000      31.000000                    6.000000   \n",
            "50%     50000.500000      44.000000                   12.000000   \n",
            "75%     75000.250000      57.000000                   19.000000   \n",
            "max    100000.000000      70.000000                   24.000000   \n",
            "\n",
            "        Monthly_Bill  Total_Usage_GB          Churn  \n",
            "count  100000.000000   100000.000000  100000.000000  \n",
            "mean       65.053197      274.393650       0.497790  \n",
            "std        20.230696      130.463063       0.499998  \n",
            "min        30.000000       50.000000       0.000000  \n",
            "25%        47.540000      161.000000       0.000000  \n",
            "50%        65.010000      274.000000       0.000000  \n",
            "75%        82.640000      387.000000       1.000000  \n",
            "max       100.000000      500.000000       1.000000  \n",
            "0    50221\n",
            "1    49779\n",
            "Name: Churn, dtype: int64\n"
          ]
        }
      ],
      "source": [
        "from google.colab import drive\n",
        "drive.mount('/content/drive')\n",
        "df = pd.read_excel('/content/drive/MyDrive/customer_churn_large_dataset.xlsx')\n",
        "print(df.head())\n",
        "print(df.describe())\n",
        "print(df['Churn'].value_counts())"
      ]
    },
    {
      "cell_type": "markdown",
      "id": "aa8f4693",
      "metadata": {
        "id": "aa8f4693"
      },
      "source": [
        "### Handling Missing Data"
      ]
    },
    {
      "cell_type": "code",
      "execution_count": null,
      "id": "f8d6051f",
      "metadata": {
        "id": "f8d6051f",
        "colab": {
          "base_uri": "https://localhost:8080/"
        },
        "outputId": "f84084a0-306d-453e-b379-00ee405e1c5f"
      },
      "outputs": [
        {
          "output_type": "stream",
          "name": "stdout",
          "text": [
            "Columns with missing data: []\n"
          ]
        }
      ],
      "source": [
        "df.dropna(inplace=True)\n",
        "missing_cols = df.columns[df.isnull().any()].tolist()\n",
        "# Display the columns with missing data\n",
        "print(\"Columns with missing data:\", missing_cols)"
      ]
    },
    {
      "cell_type": "code",
      "execution_count": null,
      "id": "75e901cb",
      "metadata": {
        "id": "75e901cb"
      },
      "outputs": [],
      "source": [
        "#   There is no missing column but still if there was missing columns we can use Simple Imputer\n",
        "#   from sklearn.impute import SimpleImputer\n",
        "#   imputer = SimpleImputer(strategy='mean')\n",
        "#   data[missing_cols] = imputer.fit_transform(data[missing_cols])"
      ]
    },
    {
      "cell_type": "markdown",
      "id": "b6b2e416",
      "metadata": {
        "id": "b6b2e416"
      },
      "source": [
        "### Handling Outliers using z-score"
      ]
    },
    {
      "cell_type": "code",
      "execution_count": null,
      "id": "2dd39225",
      "metadata": {
        "id": "2dd39225"
      },
      "outputs": [],
      "source": [
        "from scipy import stats\n",
        "z_scores = np.abs(stats.zscore(df[['Age', 'Monthly_Bill', 'Total_Usage_GB']]))\n",
        "df = df[(z_scores < 3).all(axis=1)]\n"
      ]
    },
    {
      "cell_type": "code",
      "execution_count": null,
      "id": "63eaeff4",
      "metadata": {
        "id": "63eaeff4"
      },
      "outputs": [],
      "source": [
        "# Dummy Variables for Striing datatypes Columns\n",
        "df = pd.get_dummies(df, columns=['Gender', 'Location'], drop_first=True)\n"
      ]
    },
    {
      "cell_type": "code",
      "source": [
        "df"
      ],
      "metadata": {
        "id": "yW7iXU2xVbnF",
        "colab": {
          "base_uri": "https://localhost:8080/",
          "height": 461
        },
        "outputId": "5db15207-42fb-4fb8-9b44-e7cbf6287bbb"
      },
      "id": "yW7iXU2xVbnF",
      "execution_count": null,
      "outputs": [
        {
          "output_type": "execute_result",
          "data": {
            "text/plain": [
              "       CustomerID             Name  Age  Subscription_Length_Months  \\\n",
              "0               1       Customer_1   63                          17   \n",
              "1               2       Customer_2   62                           1   \n",
              "2               3       Customer_3   24                           5   \n",
              "3               4       Customer_4   36                           3   \n",
              "4               5       Customer_5   46                          19   \n",
              "...           ...              ...  ...                         ...   \n",
              "99995       99996   Customer_99996   33                          23   \n",
              "99996       99997   Customer_99997   62                          19   \n",
              "99997       99998   Customer_99998   64                          17   \n",
              "99998       99999   Customer_99999   51                          20   \n",
              "99999      100000  Customer_100000   27                          19   \n",
              "\n",
              "       Monthly_Bill  Total_Usage_GB  Churn  Gender_Male  Location_Houston  \\\n",
              "0             73.36             236      0            1                 0   \n",
              "1             48.76             172      0            0                 0   \n",
              "2             85.47             460      0            0                 0   \n",
              "3             97.94             297      1            0                 0   \n",
              "4             58.14             266      0            0                 0   \n",
              "...             ...             ...    ...          ...               ...   \n",
              "99995         55.13             226      1            1                 1   \n",
              "99996         61.65             351      0            0                 0   \n",
              "99997         96.11             251      1            1                 0   \n",
              "99998         49.25             434      1            0                 0   \n",
              "99999         76.57             173      1            0                 0   \n",
              "\n",
              "       Location_Los Angeles  Location_Miami  Location_New York  \n",
              "0                         1               0                  0  \n",
              "1                         0               0                  1  \n",
              "2                         1               0                  0  \n",
              "3                         0               1                  0  \n",
              "4                         0               1                  0  \n",
              "...                     ...             ...                ...  \n",
              "99995                     0               0                  0  \n",
              "99996                     0               0                  1  \n",
              "99997                     0               0                  0  \n",
              "99998                     0               0                  1  \n",
              "99999                     1               0                  0  \n",
              "\n",
              "[100000 rows x 12 columns]"
            ],
            "text/html": [
              "\n",
              "  <div id=\"df-404e41d0-40cf-4af8-9bbe-b8e122e517b7\" class=\"colab-df-container\">\n",
              "    <div>\n",
              "<style scoped>\n",
              "    .dataframe tbody tr th:only-of-type {\n",
              "        vertical-align: middle;\n",
              "    }\n",
              "\n",
              "    .dataframe tbody tr th {\n",
              "        vertical-align: top;\n",
              "    }\n",
              "\n",
              "    .dataframe thead th {\n",
              "        text-align: right;\n",
              "    }\n",
              "</style>\n",
              "<table border=\"1\" class=\"dataframe\">\n",
              "  <thead>\n",
              "    <tr style=\"text-align: right;\">\n",
              "      <th></th>\n",
              "      <th>CustomerID</th>\n",
              "      <th>Name</th>\n",
              "      <th>Age</th>\n",
              "      <th>Subscription_Length_Months</th>\n",
              "      <th>Monthly_Bill</th>\n",
              "      <th>Total_Usage_GB</th>\n",
              "      <th>Churn</th>\n",
              "      <th>Gender_Male</th>\n",
              "      <th>Location_Houston</th>\n",
              "      <th>Location_Los Angeles</th>\n",
              "      <th>Location_Miami</th>\n",
              "      <th>Location_New York</th>\n",
              "    </tr>\n",
              "  </thead>\n",
              "  <tbody>\n",
              "    <tr>\n",
              "      <th>0</th>\n",
              "      <td>1</td>\n",
              "      <td>Customer_1</td>\n",
              "      <td>63</td>\n",
              "      <td>17</td>\n",
              "      <td>73.36</td>\n",
              "      <td>236</td>\n",
              "      <td>0</td>\n",
              "      <td>1</td>\n",
              "      <td>0</td>\n",
              "      <td>1</td>\n",
              "      <td>0</td>\n",
              "      <td>0</td>\n",
              "    </tr>\n",
              "    <tr>\n",
              "      <th>1</th>\n",
              "      <td>2</td>\n",
              "      <td>Customer_2</td>\n",
              "      <td>62</td>\n",
              "      <td>1</td>\n",
              "      <td>48.76</td>\n",
              "      <td>172</td>\n",
              "      <td>0</td>\n",
              "      <td>0</td>\n",
              "      <td>0</td>\n",
              "      <td>0</td>\n",
              "      <td>0</td>\n",
              "      <td>1</td>\n",
              "    </tr>\n",
              "    <tr>\n",
              "      <th>2</th>\n",
              "      <td>3</td>\n",
              "      <td>Customer_3</td>\n",
              "      <td>24</td>\n",
              "      <td>5</td>\n",
              "      <td>85.47</td>\n",
              "      <td>460</td>\n",
              "      <td>0</td>\n",
              "      <td>0</td>\n",
              "      <td>0</td>\n",
              "      <td>1</td>\n",
              "      <td>0</td>\n",
              "      <td>0</td>\n",
              "    </tr>\n",
              "    <tr>\n",
              "      <th>3</th>\n",
              "      <td>4</td>\n",
              "      <td>Customer_4</td>\n",
              "      <td>36</td>\n",
              "      <td>3</td>\n",
              "      <td>97.94</td>\n",
              "      <td>297</td>\n",
              "      <td>1</td>\n",
              "      <td>0</td>\n",
              "      <td>0</td>\n",
              "      <td>0</td>\n",
              "      <td>1</td>\n",
              "      <td>0</td>\n",
              "    </tr>\n",
              "    <tr>\n",
              "      <th>4</th>\n",
              "      <td>5</td>\n",
              "      <td>Customer_5</td>\n",
              "      <td>46</td>\n",
              "      <td>19</td>\n",
              "      <td>58.14</td>\n",
              "      <td>266</td>\n",
              "      <td>0</td>\n",
              "      <td>0</td>\n",
              "      <td>0</td>\n",
              "      <td>0</td>\n",
              "      <td>1</td>\n",
              "      <td>0</td>\n",
              "    </tr>\n",
              "    <tr>\n",
              "      <th>...</th>\n",
              "      <td>...</td>\n",
              "      <td>...</td>\n",
              "      <td>...</td>\n",
              "      <td>...</td>\n",
              "      <td>...</td>\n",
              "      <td>...</td>\n",
              "      <td>...</td>\n",
              "      <td>...</td>\n",
              "      <td>...</td>\n",
              "      <td>...</td>\n",
              "      <td>...</td>\n",
              "      <td>...</td>\n",
              "    </tr>\n",
              "    <tr>\n",
              "      <th>99995</th>\n",
              "      <td>99996</td>\n",
              "      <td>Customer_99996</td>\n",
              "      <td>33</td>\n",
              "      <td>23</td>\n",
              "      <td>55.13</td>\n",
              "      <td>226</td>\n",
              "      <td>1</td>\n",
              "      <td>1</td>\n",
              "      <td>1</td>\n",
              "      <td>0</td>\n",
              "      <td>0</td>\n",
              "      <td>0</td>\n",
              "    </tr>\n",
              "    <tr>\n",
              "      <th>99996</th>\n",
              "      <td>99997</td>\n",
              "      <td>Customer_99997</td>\n",
              "      <td>62</td>\n",
              "      <td>19</td>\n",
              "      <td>61.65</td>\n",
              "      <td>351</td>\n",
              "      <td>0</td>\n",
              "      <td>0</td>\n",
              "      <td>0</td>\n",
              "      <td>0</td>\n",
              "      <td>0</td>\n",
              "      <td>1</td>\n",
              "    </tr>\n",
              "    <tr>\n",
              "      <th>99997</th>\n",
              "      <td>99998</td>\n",
              "      <td>Customer_99998</td>\n",
              "      <td>64</td>\n",
              "      <td>17</td>\n",
              "      <td>96.11</td>\n",
              "      <td>251</td>\n",
              "      <td>1</td>\n",
              "      <td>1</td>\n",
              "      <td>0</td>\n",
              "      <td>0</td>\n",
              "      <td>0</td>\n",
              "      <td>0</td>\n",
              "    </tr>\n",
              "    <tr>\n",
              "      <th>99998</th>\n",
              "      <td>99999</td>\n",
              "      <td>Customer_99999</td>\n",
              "      <td>51</td>\n",
              "      <td>20</td>\n",
              "      <td>49.25</td>\n",
              "      <td>434</td>\n",
              "      <td>1</td>\n",
              "      <td>0</td>\n",
              "      <td>0</td>\n",
              "      <td>0</td>\n",
              "      <td>0</td>\n",
              "      <td>1</td>\n",
              "    </tr>\n",
              "    <tr>\n",
              "      <th>99999</th>\n",
              "      <td>100000</td>\n",
              "      <td>Customer_100000</td>\n",
              "      <td>27</td>\n",
              "      <td>19</td>\n",
              "      <td>76.57</td>\n",
              "      <td>173</td>\n",
              "      <td>1</td>\n",
              "      <td>0</td>\n",
              "      <td>0</td>\n",
              "      <td>1</td>\n",
              "      <td>0</td>\n",
              "      <td>0</td>\n",
              "    </tr>\n",
              "  </tbody>\n",
              "</table>\n",
              "<p>100000 rows × 12 columns</p>\n",
              "</div>\n",
              "    <div class=\"colab-df-buttons\">\n",
              "\n",
              "  <div class=\"colab-df-container\">\n",
              "    <button class=\"colab-df-convert\" onclick=\"convertToInteractive('df-404e41d0-40cf-4af8-9bbe-b8e122e517b7')\"\n",
              "            title=\"Convert this dataframe to an interactive table.\"\n",
              "            style=\"display:none;\">\n",
              "\n",
              "  <svg xmlns=\"http://www.w3.org/2000/svg\" height=\"24px\" viewBox=\"0 -960 960 960\">\n",
              "    <path d=\"M120-120v-720h720v720H120Zm60-500h600v-160H180v160Zm220 220h160v-160H400v160Zm0 220h160v-160H400v160ZM180-400h160v-160H180v160Zm440 0h160v-160H620v160ZM180-180h160v-160H180v160Zm440 0h160v-160H620v160Z\"/>\n",
              "  </svg>\n",
              "    </button>\n",
              "\n",
              "  <style>\n",
              "    .colab-df-container {\n",
              "      display:flex;\n",
              "      gap: 12px;\n",
              "    }\n",
              "\n",
              "    .colab-df-convert {\n",
              "      background-color: #E8F0FE;\n",
              "      border: none;\n",
              "      border-radius: 50%;\n",
              "      cursor: pointer;\n",
              "      display: none;\n",
              "      fill: #1967D2;\n",
              "      height: 32px;\n",
              "      padding: 0 0 0 0;\n",
              "      width: 32px;\n",
              "    }\n",
              "\n",
              "    .colab-df-convert:hover {\n",
              "      background-color: #E2EBFA;\n",
              "      box-shadow: 0px 1px 2px rgba(60, 64, 67, 0.3), 0px 1px 3px 1px rgba(60, 64, 67, 0.15);\n",
              "      fill: #174EA6;\n",
              "    }\n",
              "\n",
              "    .colab-df-buttons div {\n",
              "      margin-bottom: 4px;\n",
              "    }\n",
              "\n",
              "    [theme=dark] .colab-df-convert {\n",
              "      background-color: #3B4455;\n",
              "      fill: #D2E3FC;\n",
              "    }\n",
              "\n",
              "    [theme=dark] .colab-df-convert:hover {\n",
              "      background-color: #434B5C;\n",
              "      box-shadow: 0px 1px 3px 1px rgba(0, 0, 0, 0.15);\n",
              "      filter: drop-shadow(0px 1px 2px rgba(0, 0, 0, 0.3));\n",
              "      fill: #FFFFFF;\n",
              "    }\n",
              "  </style>\n",
              "\n",
              "    <script>\n",
              "      const buttonEl =\n",
              "        document.querySelector('#df-404e41d0-40cf-4af8-9bbe-b8e122e517b7 button.colab-df-convert');\n",
              "      buttonEl.style.display =\n",
              "        google.colab.kernel.accessAllowed ? 'block' : 'none';\n",
              "\n",
              "      async function convertToInteractive(key) {\n",
              "        const element = document.querySelector('#df-404e41d0-40cf-4af8-9bbe-b8e122e517b7');\n",
              "        const dataTable =\n",
              "          await google.colab.kernel.invokeFunction('convertToInteractive',\n",
              "                                                    [key], {});\n",
              "        if (!dataTable) return;\n",
              "\n",
              "        const docLinkHtml = 'Like what you see? Visit the ' +\n",
              "          '<a target=\"_blank\" href=https://colab.research.google.com/notebooks/data_table.ipynb>data table notebook</a>'\n",
              "          + ' to learn more about interactive tables.';\n",
              "        element.innerHTML = '';\n",
              "        dataTable['output_type'] = 'display_data';\n",
              "        await google.colab.output.renderOutput(dataTable, element);\n",
              "        const docLink = document.createElement('div');\n",
              "        docLink.innerHTML = docLinkHtml;\n",
              "        element.appendChild(docLink);\n",
              "      }\n",
              "    </script>\n",
              "  </div>\n",
              "\n",
              "\n",
              "<div id=\"df-d4b72dbd-2923-4add-9337-963eeec0cea5\">\n",
              "  <button class=\"colab-df-quickchart\" onclick=\"quickchart('df-d4b72dbd-2923-4add-9337-963eeec0cea5')\"\n",
              "            title=\"Suggest charts.\"\n",
              "            style=\"display:none;\">\n",
              "\n",
              "<svg xmlns=\"http://www.w3.org/2000/svg\" height=\"24px\"viewBox=\"0 0 24 24\"\n",
              "     width=\"24px\">\n",
              "    <g>\n",
              "        <path d=\"M19 3H5c-1.1 0-2 .9-2 2v14c0 1.1.9 2 2 2h14c1.1 0 2-.9 2-2V5c0-1.1-.9-2-2-2zM9 17H7v-7h2v7zm4 0h-2V7h2v10zm4 0h-2v-4h2v4z\"/>\n",
              "    </g>\n",
              "</svg>\n",
              "  </button>\n",
              "\n",
              "<style>\n",
              "  .colab-df-quickchart {\n",
              "      --bg-color: #E8F0FE;\n",
              "      --fill-color: #1967D2;\n",
              "      --hover-bg-color: #E2EBFA;\n",
              "      --hover-fill-color: #174EA6;\n",
              "      --disabled-fill-color: #AAA;\n",
              "      --disabled-bg-color: #DDD;\n",
              "  }\n",
              "\n",
              "  [theme=dark] .colab-df-quickchart {\n",
              "      --bg-color: #3B4455;\n",
              "      --fill-color: #D2E3FC;\n",
              "      --hover-bg-color: #434B5C;\n",
              "      --hover-fill-color: #FFFFFF;\n",
              "      --disabled-bg-color: #3B4455;\n",
              "      --disabled-fill-color: #666;\n",
              "  }\n",
              "\n",
              "  .colab-df-quickchart {\n",
              "    background-color: var(--bg-color);\n",
              "    border: none;\n",
              "    border-radius: 50%;\n",
              "    cursor: pointer;\n",
              "    display: none;\n",
              "    fill: var(--fill-color);\n",
              "    height: 32px;\n",
              "    padding: 0;\n",
              "    width: 32px;\n",
              "  }\n",
              "\n",
              "  .colab-df-quickchart:hover {\n",
              "    background-color: var(--hover-bg-color);\n",
              "    box-shadow: 0 1px 2px rgba(60, 64, 67, 0.3), 0 1px 3px 1px rgba(60, 64, 67, 0.15);\n",
              "    fill: var(--button-hover-fill-color);\n",
              "  }\n",
              "\n",
              "  .colab-df-quickchart-complete:disabled,\n",
              "  .colab-df-quickchart-complete:disabled:hover {\n",
              "    background-color: var(--disabled-bg-color);\n",
              "    fill: var(--disabled-fill-color);\n",
              "    box-shadow: none;\n",
              "  }\n",
              "\n",
              "  .colab-df-spinner {\n",
              "    border: 2px solid var(--fill-color);\n",
              "    border-color: transparent;\n",
              "    border-bottom-color: var(--fill-color);\n",
              "    animation:\n",
              "      spin 1s steps(1) infinite;\n",
              "  }\n",
              "\n",
              "  @keyframes spin {\n",
              "    0% {\n",
              "      border-color: transparent;\n",
              "      border-bottom-color: var(--fill-color);\n",
              "      border-left-color: var(--fill-color);\n",
              "    }\n",
              "    20% {\n",
              "      border-color: transparent;\n",
              "      border-left-color: var(--fill-color);\n",
              "      border-top-color: var(--fill-color);\n",
              "    }\n",
              "    30% {\n",
              "      border-color: transparent;\n",
              "      border-left-color: var(--fill-color);\n",
              "      border-top-color: var(--fill-color);\n",
              "      border-right-color: var(--fill-color);\n",
              "    }\n",
              "    40% {\n",
              "      border-color: transparent;\n",
              "      border-right-color: var(--fill-color);\n",
              "      border-top-color: var(--fill-color);\n",
              "    }\n",
              "    60% {\n",
              "      border-color: transparent;\n",
              "      border-right-color: var(--fill-color);\n",
              "    }\n",
              "    80% {\n",
              "      border-color: transparent;\n",
              "      border-right-color: var(--fill-color);\n",
              "      border-bottom-color: var(--fill-color);\n",
              "    }\n",
              "    90% {\n",
              "      border-color: transparent;\n",
              "      border-bottom-color: var(--fill-color);\n",
              "    }\n",
              "  }\n",
              "</style>\n",
              "\n",
              "  <script>\n",
              "    async function quickchart(key) {\n",
              "      const quickchartButtonEl =\n",
              "        document.querySelector('#' + key + ' button');\n",
              "      quickchartButtonEl.disabled = true;  // To prevent multiple clicks.\n",
              "      quickchartButtonEl.classList.add('colab-df-spinner');\n",
              "      try {\n",
              "        const charts = await google.colab.kernel.invokeFunction(\n",
              "            'suggestCharts', [key], {});\n",
              "      } catch (error) {\n",
              "        console.error('Error during call to suggestCharts:', error);\n",
              "      }\n",
              "      quickchartButtonEl.classList.remove('colab-df-spinner');\n",
              "      quickchartButtonEl.classList.add('colab-df-quickchart-complete');\n",
              "    }\n",
              "    (() => {\n",
              "      let quickchartButtonEl =\n",
              "        document.querySelector('#df-d4b72dbd-2923-4add-9337-963eeec0cea5 button');\n",
              "      quickchartButtonEl.style.display =\n",
              "        google.colab.kernel.accessAllowed ? 'block' : 'none';\n",
              "    })();\n",
              "  </script>\n",
              "</div>\n",
              "    </div>\n",
              "  </div>\n"
            ]
          },
          "metadata": {},
          "execution_count": 7
        }
      ]
    },
    {
      "cell_type": "markdown",
      "id": "1cf222d1",
      "metadata": {
        "id": "1cf222d1"
      },
      "source": [
        "### Preparing the data for machine learning by encoding categorical variables"
      ]
    },
    {
      "cell_type": "code",
      "source": [
        "# Dropped these columns as there is no use of them in model making\n",
        "df = df.drop(['CustomerID', 'Name'], axis=1)"
      ],
      "metadata": {
        "id": "J6uhsO5oVkVr"
      },
      "id": "J6uhsO5oVkVr",
      "execution_count": null,
      "outputs": []
    },
    {
      "cell_type": "code",
      "execution_count": null,
      "id": "352b6650",
      "metadata": {
        "id": "352b6650",
        "colab": {
          "base_uri": "https://localhost:8080/"
        },
        "outputId": "c9cd1f9c-629d-44b2-920d-346bfa5081aa"
      },
      "outputs": [
        {
          "output_type": "stream",
          "name": "stdout",
          "text": [
            "       Age  Subscription_Length_Months  Monthly_Bill  Total_Usage_GB  \\\n",
            "0       63                          17         73.36             236   \n",
            "1       62                           1         48.76             172   \n",
            "2       24                           5         85.47             460   \n",
            "3       36                           3         97.94             297   \n",
            "4       46                          19         58.14             266   \n",
            "...    ...                         ...           ...             ...   \n",
            "99995   33                          23         55.13             226   \n",
            "99996   62                          19         61.65             351   \n",
            "99997   64                          17         96.11             251   \n",
            "99998   51                          20         49.25             434   \n",
            "99999   27                          19         76.57             173   \n",
            "\n",
            "       Gender_Male  Location_Houston  Location_Los Angeles  Location_Miami  \\\n",
            "0                1                 0                     1               0   \n",
            "1                0                 0                     0               0   \n",
            "2                0                 0                     1               0   \n",
            "3                0                 0                     0               1   \n",
            "4                0                 0                     0               1   \n",
            "...            ...               ...                   ...             ...   \n",
            "99995            1                 1                     0               0   \n",
            "99996            0                 0                     0               0   \n",
            "99997            1                 0                     0               0   \n",
            "99998            0                 0                     0               0   \n",
            "99999            0                 0                     1               0   \n",
            "\n",
            "       Location_New York  \n",
            "0                      0  \n",
            "1                      1  \n",
            "2                      0  \n",
            "3                      0  \n",
            "4                      0  \n",
            "...                  ...  \n",
            "99995                  0  \n",
            "99996                  1  \n",
            "99997                  0  \n",
            "99998                  1  \n",
            "99999                  0  \n",
            "\n",
            "[100000 rows x 9 columns]\n",
            "0        0\n",
            "1        0\n",
            "2        0\n",
            "3        1\n",
            "4        0\n",
            "        ..\n",
            "99995    1\n",
            "99996    0\n",
            "99997    1\n",
            "99998    1\n",
            "99999    1\n",
            "Name: Churn, Length: 100000, dtype: int64\n"
          ]
        }
      ],
      "source": [
        "X = df.drop('Churn', axis=1)\n",
        "y = df['Churn']\n",
        "print(X)\n",
        "print(y)\n"
      ]
    },
    {
      "cell_type": "markdown",
      "source": [
        "Splitting it into\n",
        "training and testing sets"
      ],
      "metadata": {
        "id": "CEyKfNdthxmH"
      },
      "id": "CEyKfNdthxmH"
    },
    {
      "cell_type": "code",
      "execution_count": null,
      "id": "8ce9d474",
      "metadata": {
        "id": "8ce9d474"
      },
      "outputs": [],
      "source": [
        "X_train, X_test, y_train, y_test = train_test_split(X, y, test_size=0.2, random_state=42)"
      ]
    },
    {
      "cell_type": "markdown",
      "source": [
        "# 2. Feature Engineering and Feature Scaling"
      ],
      "metadata": {
        "id": "Pdf1dj-biWD3"
      },
      "id": "Pdf1dj-biWD3"
    },
    {
      "cell_type": "code",
      "source": [
        "df['Tenure_Months'] = df['Subscription_Length_Months'] - df['Age']\n",
        "df['Interaction_Per_Month'] = df['Total_Usage_GB'] / df['Subscription_Length_Months']\n",
        "\n",
        "from sklearn.preprocessing import StandardScaler\n",
        "scaler = StandardScaler()\n",
        "X_train_scaled = scaler.fit_transform(X_train)\n",
        "X_test_scaled = scaler.transform(X_test)"
      ],
      "metadata": {
        "id": "jDW9qXYCUaLa"
      },
      "id": "jDW9qXYCUaLa",
      "execution_count": null,
      "outputs": []
    },
    {
      "cell_type": "markdown",
      "source": [
        "# 3. Model Building (Trying Different Model)"
      ],
      "metadata": {
        "id": "06H-I_1IizyN"
      },
      "id": "06H-I_1IizyN"
    },
    {
      "cell_type": "markdown",
      "source": [
        "Logistic Regression Classifier"
      ],
      "metadata": {
        "id": "Up_boUeEm4G4"
      },
      "id": "Up_boUeEm4G4"
    },
    {
      "cell_type": "code",
      "source": [
        "# Choose a machine learning algorithm (e.g., Logistic Regression)\n",
        "from sklearn.linear_model import LogisticRegression\n",
        "\n",
        "# Train the model\n",
        "lg_model = LogisticRegression()\n",
        "lg_model.fit(X_train_scaled, y_train)\n",
        "\n",
        "# Evaluate the model's performance\n",
        "from sklearn.metrics import accuracy_score, precision_score, recall_score, f1_score, roc_auc_score\n",
        "\n",
        "y_pred = lg_model.predict(X_test_scaled)\n",
        "accuracy = accuracy_score(y_test, y_pred)\n",
        "precision = precision_score(y_test, y_pred)\n",
        "recall = recall_score(y_test, y_pred)\n",
        "f1 = f1_score(y_test, y_pred)\n",
        "roc_auc = roc_auc_score(y_test, y_pred)\n",
        "\n",
        "print(\"Accuracy: {:.2f}\".format(accuracy))\n",
        "print(\"Precision: {:.2f}\".format(precision))\n",
        "print(\"Recall: {:.2f}\".format(recall))\n",
        "print(\"F1 Score: {:.2f}\".format(f1))\n",
        "print(\"ROC AUC: {:.2f}\".format(roc_auc))\n"
      ],
      "metadata": {
        "id": "Z8rVSllWV2Bp",
        "colab": {
          "base_uri": "https://localhost:8080/"
        },
        "outputId": "6ef0bb7b-c638-4225-cca6-8972d445f7c0"
      },
      "id": "Z8rVSllWV2Bp",
      "execution_count": null,
      "outputs": [
        {
          "output_type": "stream",
          "name": "stdout",
          "text": [
            "Accuracy: 0.50\n",
            "Precision: 0.50\n",
            "Recall: 0.38\n",
            "F1 Score: 0.43\n",
            "ROC AUC: 0.50\n"
          ]
        }
      ]
    },
    {
      "cell_type": "markdown",
      "source": [
        "# Model Optimization"
      ],
      "metadata": {
        "id": "-gf_qdQdllgH"
      },
      "id": "-gf_qdQdllgH"
    },
    {
      "cell_type": "markdown",
      "source": [
        "Grid Search CV"
      ],
      "metadata": {
        "id": "sxBnfalrlvqN"
      },
      "id": "sxBnfalrlvqN"
    },
    {
      "cell_type": "code",
      "source": [
        "# Fine-tune the model parameters (hyperparameter tuning)\n",
        "# Example: GridSearchCV for logistic regression\n",
        "from sklearn.model_selection import GridSearchCV\n",
        "\n",
        "param_grid = {'C': [0.001, 0.01, 0.1, 1, 10]}\n",
        "grid_search = GridSearchCV(LogisticRegression(), param_grid, cv=5)\n",
        "grid_search.fit(X_train_scaled, y_train)\n",
        "\n",
        "best_model = grid_search.best_estimator_\n",
        "best_model.fit(X_train_scaled, y_train)\n"
      ],
      "metadata": {
        "id": "QoyolGymV4Xb",
        "colab": {
          "base_uri": "https://localhost:8080/",
          "height": 74
        },
        "outputId": "2863007a-15f6-4b8e-8619-f8e5f19f26d4"
      },
      "id": "QoyolGymV4Xb",
      "execution_count": null,
      "outputs": [
        {
          "output_type": "execute_result",
          "data": {
            "text/plain": [
              "LogisticRegression(C=0.001)"
            ],
            "text/html": [
              "<style>#sk-container-id-1 {color: black;background-color: white;}#sk-container-id-1 pre{padding: 0;}#sk-container-id-1 div.sk-toggleable {background-color: white;}#sk-container-id-1 label.sk-toggleable__label {cursor: pointer;display: block;width: 100%;margin-bottom: 0;padding: 0.3em;box-sizing: border-box;text-align: center;}#sk-container-id-1 label.sk-toggleable__label-arrow:before {content: \"▸\";float: left;margin-right: 0.25em;color: #696969;}#sk-container-id-1 label.sk-toggleable__label-arrow:hover:before {color: black;}#sk-container-id-1 div.sk-estimator:hover label.sk-toggleable__label-arrow:before {color: black;}#sk-container-id-1 div.sk-toggleable__content {max-height: 0;max-width: 0;overflow: hidden;text-align: left;background-color: #f0f8ff;}#sk-container-id-1 div.sk-toggleable__content pre {margin: 0.2em;color: black;border-radius: 0.25em;background-color: #f0f8ff;}#sk-container-id-1 input.sk-toggleable__control:checked~div.sk-toggleable__content {max-height: 200px;max-width: 100%;overflow: auto;}#sk-container-id-1 input.sk-toggleable__control:checked~label.sk-toggleable__label-arrow:before {content: \"▾\";}#sk-container-id-1 div.sk-estimator input.sk-toggleable__control:checked~label.sk-toggleable__label {background-color: #d4ebff;}#sk-container-id-1 div.sk-label input.sk-toggleable__control:checked~label.sk-toggleable__label {background-color: #d4ebff;}#sk-container-id-1 input.sk-hidden--visually {border: 0;clip: rect(1px 1px 1px 1px);clip: rect(1px, 1px, 1px, 1px);height: 1px;margin: -1px;overflow: hidden;padding: 0;position: absolute;width: 1px;}#sk-container-id-1 div.sk-estimator {font-family: monospace;background-color: #f0f8ff;border: 1px dotted black;border-radius: 0.25em;box-sizing: border-box;margin-bottom: 0.5em;}#sk-container-id-1 div.sk-estimator:hover {background-color: #d4ebff;}#sk-container-id-1 div.sk-parallel-item::after {content: \"\";width: 100%;border-bottom: 1px solid gray;flex-grow: 1;}#sk-container-id-1 div.sk-label:hover label.sk-toggleable__label {background-color: #d4ebff;}#sk-container-id-1 div.sk-serial::before {content: \"\";position: absolute;border-left: 1px solid gray;box-sizing: border-box;top: 0;bottom: 0;left: 50%;z-index: 0;}#sk-container-id-1 div.sk-serial {display: flex;flex-direction: column;align-items: center;background-color: white;padding-right: 0.2em;padding-left: 0.2em;position: relative;}#sk-container-id-1 div.sk-item {position: relative;z-index: 1;}#sk-container-id-1 div.sk-parallel {display: flex;align-items: stretch;justify-content: center;background-color: white;position: relative;}#sk-container-id-1 div.sk-item::before, #sk-container-id-1 div.sk-parallel-item::before {content: \"\";position: absolute;border-left: 1px solid gray;box-sizing: border-box;top: 0;bottom: 0;left: 50%;z-index: -1;}#sk-container-id-1 div.sk-parallel-item {display: flex;flex-direction: column;z-index: 1;position: relative;background-color: white;}#sk-container-id-1 div.sk-parallel-item:first-child::after {align-self: flex-end;width: 50%;}#sk-container-id-1 div.sk-parallel-item:last-child::after {align-self: flex-start;width: 50%;}#sk-container-id-1 div.sk-parallel-item:only-child::after {width: 0;}#sk-container-id-1 div.sk-dashed-wrapped {border: 1px dashed gray;margin: 0 0.4em 0.5em 0.4em;box-sizing: border-box;padding-bottom: 0.4em;background-color: white;}#sk-container-id-1 div.sk-label label {font-family: monospace;font-weight: bold;display: inline-block;line-height: 1.2em;}#sk-container-id-1 div.sk-label-container {text-align: center;}#sk-container-id-1 div.sk-container {/* jupyter's `normalize.less` sets `[hidden] { display: none; }` but bootstrap.min.css set `[hidden] { display: none !important; }` so we also need the `!important` here to be able to override the default hidden behavior on the sphinx rendered scikit-learn.org. See: https://github.com/scikit-learn/scikit-learn/issues/21755 */display: inline-block !important;position: relative;}#sk-container-id-1 div.sk-text-repr-fallback {display: none;}</style><div id=\"sk-container-id-1\" class=\"sk-top-container\"><div class=\"sk-text-repr-fallback\"><pre>LogisticRegression(C=0.001)</pre><b>In a Jupyter environment, please rerun this cell to show the HTML representation or trust the notebook. <br />On GitHub, the HTML representation is unable to render, please try loading this page with nbviewer.org.</b></div><div class=\"sk-container\" hidden><div class=\"sk-item\"><div class=\"sk-estimator sk-toggleable\"><input class=\"sk-toggleable__control sk-hidden--visually\" id=\"sk-estimator-id-1\" type=\"checkbox\" checked><label for=\"sk-estimator-id-1\" class=\"sk-toggleable__label sk-toggleable__label-arrow\">LogisticRegression</label><div class=\"sk-toggleable__content\"><pre>LogisticRegression(C=0.001)</pre></div></div></div></div></div>"
            ]
          },
          "metadata": {},
          "execution_count": 13
        }
      ]
    },
    {
      "cell_type": "code",
      "source": [
        "from sklearn.metrics import accuracy_score\n",
        "\n",
        "\n",
        "y_pred = best_model.predict(X_test_scaled)\n",
        "\n",
        "\n",
        "accuracy = accuracy_score(y_test, y_pred)\n",
        "\n",
        "print(\"Accuracy: {:.2f}\".format(accuracy))\n"
      ],
      "metadata": {
        "id": "wbugB76wV7tD",
        "colab": {
          "base_uri": "https://localhost:8080/"
        },
        "outputId": "223f9409-57e7-4241-bf51-610d6de1a769"
      },
      "id": "wbugB76wV7tD",
      "execution_count": null,
      "outputs": [
        {
          "output_type": "stream",
          "name": "stdout",
          "text": [
            "Accuracy: 0.50\n"
          ]
        }
      ]
    },
    {
      "cell_type": "markdown",
      "source": [
        "Random Forest Classifier"
      ],
      "metadata": {
        "id": "Adm6JJYcnAK8"
      },
      "id": "Adm6JJYcnAK8"
    },
    {
      "cell_type": "code",
      "source": [
        "from sklearn.ensemble import RandomForestClassifier\n",
        "\n",
        "# Create and train the Random Forest model\n",
        "random_forest_model = RandomForestClassifier()\n",
        "random_forest_model.fit(X_train_scaled, y_train)\n",
        "\n",
        "# Evaluate the model's accuracy\n",
        "y_pred_rf = random_forest_model.predict(X_test_scaled)\n",
        "accuracy_rf = accuracy_score(y_test, y_pred_rf)\n",
        "accuracy_rf"
      ],
      "metadata": {
        "id": "A65AoK4fWGV3",
        "colab": {
          "base_uri": "https://localhost:8080/"
        },
        "outputId": "082f004e-53eb-46d0-c6b6-c65f6421b72e"
      },
      "id": "A65AoK4fWGV3",
      "execution_count": null,
      "outputs": [
        {
          "output_type": "execute_result",
          "data": {
            "text/plain": [
              "0.49515"
            ]
          },
          "metadata": {},
          "execution_count": 15
        }
      ]
    },
    {
      "cell_type": "markdown",
      "source": [
        "Support Vector Classifier"
      ],
      "metadata": {
        "id": "D8s2tF-hnDn8"
      },
      "id": "D8s2tF-hnDn8"
    },
    {
      "cell_type": "code",
      "source": [
        "from sklearn.svm import SVC\n",
        "\n",
        "# Create and train the SVM model\n",
        "svm_model = SVC()\n",
        "svm_model.fit(X_train_scaled, y_train)\n",
        "\n",
        "# Evaluate the model's accuracy\n",
        "y_pred_svm = svm_model.predict(X_test_scaled)\n",
        "accuracy_svm = accuracy_score(y_test, y_pred_svm)\n",
        "accuracy_svm"
      ],
      "metadata": {
        "colab": {
          "base_uri": "https://localhost:8080/"
        },
        "id": "hTS8B8yVWduN",
        "outputId": "a59dab21-3842-41a0-dbeb-b18da0dba80b"
      },
      "id": "hTS8B8yVWduN",
      "execution_count": null,
      "outputs": [
        {
          "output_type": "execute_result",
          "data": {
            "text/plain": [
              "0.4993"
            ]
          },
          "metadata": {},
          "execution_count": 16
        }
      ]
    },
    {
      "cell_type": "markdown",
      "source": [
        "XG Boost Classifier"
      ],
      "metadata": {
        "id": "yzKFQvtanIZE"
      },
      "id": "yzKFQvtanIZE"
    },
    {
      "cell_type": "code",
      "source": [
        "from xgboost import XGBClassifier\n",
        "\n",
        "# Create and train the XGBoost model\n",
        "xgb_model = XGBClassifier()\n",
        "xgb_model.fit(X_train_scaled, y_train)\n",
        "\n",
        "# Evaluate the model's accuracy\n",
        "y_pred_xgb = xgb_model.predict(X_test_scaled)\n",
        "accuracy_xgb = accuracy_score(y_test, y_pred_xgb)\n",
        "accuracy_xgb"
      ],
      "metadata": {
        "colab": {
          "base_uri": "https://localhost:8080/"
        },
        "id": "qGAhmS7wWj8H",
        "outputId": "2fa7fb00-dff2-4f51-fa3e-f985322a65fd"
      },
      "id": "qGAhmS7wWj8H",
      "execution_count": null,
      "outputs": [
        {
          "output_type": "execute_result",
          "data": {
            "text/plain": [
              "0.50055"
            ]
          },
          "metadata": {},
          "execution_count": 17
        }
      ]
    },
    {
      "cell_type": "markdown",
      "source": [
        "KNN Classifier"
      ],
      "metadata": {
        "id": "A51muALmnMHt"
      },
      "id": "A51muALmnMHt"
    },
    {
      "cell_type": "code",
      "source": [
        "from sklearn.neighbors import KNeighborsClassifier\n",
        "\n",
        "# Create and train the K-NN model\n",
        "knn_model = KNeighborsClassifier()\n",
        "knn_model.fit(X_train_scaled, y_train)\n",
        "\n",
        "# Evaluate the model's accuracy\n",
        "y_pred_knn = knn_model.predict(X_test_scaled)\n",
        "accuracy_knn = accuracy_score(y_test, y_pred_knn)\n",
        "accuracy_knn"
      ],
      "metadata": {
        "colab": {
          "base_uri": "https://localhost:8080/"
        },
        "id": "9o7c4hLqWmWz",
        "outputId": "39ca6520-daae-43a4-ad52-574a5d5ed913"
      },
      "id": "9o7c4hLqWmWz",
      "execution_count": null,
      "outputs": [
        {
          "output_type": "execute_result",
          "data": {
            "text/plain": [
              "0.4995"
            ]
          },
          "metadata": {},
          "execution_count": 18
        }
      ]
    },
    {
      "cell_type": "markdown",
      "source": [
        "Neural Network"
      ],
      "metadata": {
        "id": "wsuwJ3qKnO1k"
      },
      "id": "wsuwJ3qKnO1k"
    },
    {
      "cell_type": "code",
      "source": [
        "from keras.models import Sequential\n",
        "from keras.layers import Dense\n",
        "from sklearn.metrics import accuracy_score\n",
        "model = Sequential()\n",
        "model.add(Dense(64, input_dim=X_train_scaled.shape[1], activation='relu'))\n",
        "model.add(Dense(32, activation='relu'))\n",
        "model.add(Dense(1, activation='sigmoid'))\n",
        "\n",
        "model.compile(loss='binary_crossentropy', optimizer='adam', metrics=['accuracy'])\n",
        "\n",
        "# Train the model\n",
        "model.fit(X_train_scaled, y_train, epochs=50, batch_size=32)\n",
        "\n",
        "# Evaluate the model's accuracy on the test set\n",
        "y_pred = model.predict(X_test_scaled)\n",
        "y_pred = (y_pred > 0.5).astype(int)\n",
        "\n",
        "accuracy = accuracy_score(y_test, y_pred)\n",
        "print(\"Accuracy: {:.2f}\".format(accuracy))"
      ],
      "metadata": {
        "colab": {
          "base_uri": "https://localhost:8080/"
        },
        "id": "4ogZ4Ka4Y4Fe",
        "outputId": "e05202c2-ae65-4b3d-9a24-98495dbc2f6b"
      },
      "id": "4ogZ4Ka4Y4Fe",
      "execution_count": null,
      "outputs": [
        {
          "output_type": "stream",
          "name": "stdout",
          "text": [
            "Epoch 1/50\n",
            "2500/2500 [==============================] - 17s 7ms/step - loss: 0.6943 - accuracy: 0.5012\n",
            "Epoch 2/50\n",
            "2500/2500 [==============================] - 9s 4ms/step - loss: 0.6932 - accuracy: 0.5040\n",
            "Epoch 3/50\n",
            "2500/2500 [==============================] - 10s 4ms/step - loss: 0.6932 - accuracy: 0.5039\n",
            "Epoch 4/50\n",
            "2500/2500 [==============================] - 6s 2ms/step - loss: 0.6931 - accuracy: 0.5040\n",
            "Epoch 5/50\n",
            "2500/2500 [==============================] - 6s 2ms/step - loss: 0.6931 - accuracy: 0.5054\n",
            "Epoch 6/50\n",
            "2500/2500 [==============================] - 8s 3ms/step - loss: 0.6930 - accuracy: 0.5088\n",
            "Epoch 7/50\n",
            "2500/2500 [==============================] - 13s 5ms/step - loss: 0.6930 - accuracy: 0.5080\n",
            "Epoch 8/50\n",
            "2500/2500 [==============================] - 8s 3ms/step - loss: 0.6929 - accuracy: 0.5103\n",
            "Epoch 9/50\n",
            "2500/2500 [==============================] - 12s 5ms/step - loss: 0.6928 - accuracy: 0.5115\n",
            "Epoch 10/50\n",
            "2500/2500 [==============================] - 7s 3ms/step - loss: 0.6928 - accuracy: 0.5117\n",
            "Epoch 11/50\n",
            "2500/2500 [==============================] - 7s 3ms/step - loss: 0.6927 - accuracy: 0.5132\n",
            "Epoch 12/50\n",
            "2500/2500 [==============================] - 10s 4ms/step - loss: 0.6926 - accuracy: 0.5132\n",
            "Epoch 13/50\n",
            "2500/2500 [==============================] - 9s 4ms/step - loss: 0.6926 - accuracy: 0.5135\n",
            "Epoch 14/50\n",
            "2500/2500 [==============================] - 10s 4ms/step - loss: 0.6924 - accuracy: 0.5141\n",
            "Epoch 15/50\n",
            "2500/2500 [==============================] - 7s 3ms/step - loss: 0.6923 - accuracy: 0.5174\n",
            "Epoch 16/50\n",
            "2500/2500 [==============================] - 10s 4ms/step - loss: 0.6922 - accuracy: 0.5179\n",
            "Epoch 17/50\n",
            "2500/2500 [==============================] - 9s 3ms/step - loss: 0.6921 - accuracy: 0.5181\n",
            "Epoch 18/50\n",
            "2500/2500 [==============================] - 11s 5ms/step - loss: 0.6920 - accuracy: 0.5170\n",
            "Epoch 19/50\n",
            "2500/2500 [==============================] - 11s 4ms/step - loss: 0.6920 - accuracy: 0.5183\n",
            "Epoch 20/50\n",
            "2500/2500 [==============================] - 5s 2ms/step - loss: 0.6918 - accuracy: 0.5187\n",
            "Epoch 21/50\n",
            "2500/2500 [==============================] - 7s 3ms/step - loss: 0.6917 - accuracy: 0.5208\n",
            "Epoch 22/50\n",
            "2500/2500 [==============================] - 6s 2ms/step - loss: 0.6917 - accuracy: 0.5211\n",
            "Epoch 23/50\n",
            "2500/2500 [==============================] - 7s 3ms/step - loss: 0.6916 - accuracy: 0.5213\n",
            "Epoch 24/50\n",
            "2500/2500 [==============================] - 6s 2ms/step - loss: 0.6916 - accuracy: 0.5209\n",
            "Epoch 25/50\n",
            "2500/2500 [==============================] - 6s 2ms/step - loss: 0.6915 - accuracy: 0.5232\n",
            "Epoch 26/50\n",
            "2500/2500 [==============================] - 6s 2ms/step - loss: 0.6912 - accuracy: 0.5241\n",
            "Epoch 27/50\n",
            "2500/2500 [==============================] - 5s 2ms/step - loss: 0.6912 - accuracy: 0.5231\n",
            "Epoch 28/50\n",
            "2500/2500 [==============================] - 7s 3ms/step - loss: 0.6909 - accuracy: 0.5256\n",
            "Epoch 29/50\n",
            "2500/2500 [==============================] - 5s 2ms/step - loss: 0.6908 - accuracy: 0.5264\n",
            "Epoch 30/50\n",
            "2500/2500 [==============================] - 7s 3ms/step - loss: 0.6908 - accuracy: 0.5280\n",
            "Epoch 31/50\n",
            "2500/2500 [==============================] - 6s 2ms/step - loss: 0.6908 - accuracy: 0.5257\n",
            "Epoch 32/50\n",
            "2500/2500 [==============================] - 5s 2ms/step - loss: 0.6907 - accuracy: 0.5272\n",
            "Epoch 33/50\n",
            "2500/2500 [==============================] - 7s 3ms/step - loss: 0.6905 - accuracy: 0.5266\n",
            "Epoch 34/50\n",
            "2500/2500 [==============================] - 5s 2ms/step - loss: 0.6904 - accuracy: 0.5262\n",
            "Epoch 35/50\n",
            "2500/2500 [==============================] - 7s 3ms/step - loss: 0.6903 - accuracy: 0.5278\n",
            "Epoch 36/50\n",
            "2500/2500 [==============================] - 5s 2ms/step - loss: 0.6903 - accuracy: 0.5274\n",
            "Epoch 37/50\n",
            "2500/2500 [==============================] - 6s 2ms/step - loss: 0.6902 - accuracy: 0.5293\n",
            "Epoch 38/50\n",
            "2500/2500 [==============================] - 7s 3ms/step - loss: 0.6900 - accuracy: 0.5292\n",
            "Epoch 39/50\n",
            "2500/2500 [==============================] - 5s 2ms/step - loss: 0.6900 - accuracy: 0.5280\n",
            "Epoch 40/50\n",
            "2500/2500 [==============================] - 7s 3ms/step - loss: 0.6898 - accuracy: 0.5309\n",
            "Epoch 41/50\n",
            "2500/2500 [==============================] - 6s 2ms/step - loss: 0.6898 - accuracy: 0.5298\n",
            "Epoch 42/50\n",
            "2500/2500 [==============================] - 7s 3ms/step - loss: 0.6897 - accuracy: 0.5293\n",
            "Epoch 43/50\n",
            "2500/2500 [==============================] - 6s 3ms/step - loss: 0.6895 - accuracy: 0.5316\n",
            "Epoch 44/50\n",
            "2500/2500 [==============================] - 5s 2ms/step - loss: 0.6896 - accuracy: 0.5300\n",
            "Epoch 45/50\n",
            "2500/2500 [==============================] - 7s 3ms/step - loss: 0.6895 - accuracy: 0.5306\n",
            "Epoch 46/50\n",
            "2500/2500 [==============================] - 6s 2ms/step - loss: 0.6893 - accuracy: 0.5311\n",
            "Epoch 47/50\n",
            "2500/2500 [==============================] - 7s 3ms/step - loss: 0.6894 - accuracy: 0.5304\n",
            "Epoch 48/50\n",
            "2500/2500 [==============================] - 6s 2ms/step - loss: 0.6890 - accuracy: 0.5314\n",
            "Epoch 49/50\n",
            "2500/2500 [==============================] - 5s 2ms/step - loss: 0.6889 - accuracy: 0.5347\n",
            "Epoch 50/50\n",
            "2500/2500 [==============================] - 7s 3ms/step - loss: 0.6891 - accuracy: 0.5328\n",
            "625/625 [==============================] - 1s 1ms/step\n",
            "Accuracy: 0.50\n"
          ]
        }
      ]
    },
    {
      "cell_type": "code",
      "source": [
        "import joblib\n",
        "\n",
        "# Save the trained logistic regression model to a file\n",
        "joblib.dump(lg_model, 'logistic_regression_model.pkl')\n"
      ],
      "metadata": {
        "colab": {
          "base_uri": "https://localhost:8080/"
        },
        "id": "rzWvWfUIs67l",
        "outputId": "28c1bc59-7250-40fc-b426-805ddf0f8346"
      },
      "id": "rzWvWfUIs67l",
      "execution_count": null,
      "outputs": [
        {
          "output_type": "execute_result",
          "data": {
            "text/plain": [
              "['logistic_regression_model.pkl']"
            ]
          },
          "metadata": {},
          "execution_count": 38
        }
      ]
    },
    {
      "cell_type": "code",
      "source": [],
      "metadata": {
        "id": "jBwsIVJus7Te"
      },
      "id": "jBwsIVJus7Te",
      "execution_count": null,
      "outputs": []
    }
  ],
  "metadata": {
    "kernelspec": {
      "display_name": "Python 3 (ipykernel)",
      "language": "python",
      "name": "python3"
    },
    "language_info": {
      "codemirror_mode": {
        "name": "ipython",
        "version": 3
      },
      "file_extension": ".py",
      "mimetype": "text/x-python",
      "name": "python",
      "nbconvert_exporter": "python",
      "pygments_lexer": "ipython3",
      "version": "3.11.3"
    },
    "colab": {
      "provenance": [],
      "include_colab_link": true
    }
  },
  "nbformat": 4,
  "nbformat_minor": 5
}